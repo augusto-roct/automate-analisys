{
 "cells": [
  {
   "cell_type": "code",
   "execution_count": 9,
   "metadata": {},
   "outputs": [],
   "source": [
    "import pandas as pd\n",
    "import matplotlib.pyplot as plt\n",
    "import seaborn as sns\n",
    "import numpy as np\n",
    "from sklearn.linear_model import LinearRegression\n",
    "import time\n",
    "#https://portaldatascience.com/como-lidar-com-valores-faltantes-missing/"
   ]
  },
  {
   "cell_type": "code",
   "execution_count": 2,
   "metadata": {},
   "outputs": [],
   "source": [
    "def read_data(path):\n",
    "    if '.csv' in path:\n",
    "        return pd.read_csv(path)\n",
    "    elif '.xlsx' in path:\n",
    "        return pd.read_excel(path)"
   ]
  },
  {
   "cell_type": "code",
   "execution_count": 3,
   "metadata": {},
   "outputs": [
    {
     "data": {
      "text/html": [
       "<div>\n",
       "<style scoped>\n",
       "    .dataframe tbody tr th:only-of-type {\n",
       "        vertical-align: middle;\n",
       "    }\n",
       "\n",
       "    .dataframe tbody tr th {\n",
       "        vertical-align: top;\n",
       "    }\n",
       "\n",
       "    .dataframe thead th {\n",
       "        text-align: right;\n",
       "    }\n",
       "</style>\n",
       "<table border=\"1\" class=\"dataframe\">\n",
       "  <thead>\n",
       "    <tr style=\"text-align: right;\">\n",
       "      <th></th>\n",
       "      <th>school</th>\n",
       "      <th>school_setting</th>\n",
       "      <th>school_type</th>\n",
       "      <th>classroom</th>\n",
       "      <th>teaching_method</th>\n",
       "      <th>n_student</th>\n",
       "      <th>student_id</th>\n",
       "      <th>gender</th>\n",
       "      <th>lunch</th>\n",
       "      <th>pretest</th>\n",
       "      <th>posttest</th>\n",
       "    </tr>\n",
       "  </thead>\n",
       "  <tbody>\n",
       "    <tr>\n",
       "      <th>0</th>\n",
       "      <td>ANKYI</td>\n",
       "      <td>Urban</td>\n",
       "      <td>Non-public</td>\n",
       "      <td>6OL</td>\n",
       "      <td>Standard</td>\n",
       "      <td>20.0</td>\n",
       "      <td>2FHT3</td>\n",
       "      <td>Female</td>\n",
       "      <td>Does not qualify</td>\n",
       "      <td>62.0</td>\n",
       "      <td>72.0</td>\n",
       "    </tr>\n",
       "    <tr>\n",
       "      <th>1</th>\n",
       "      <td>ANKYI</td>\n",
       "      <td>Urban</td>\n",
       "      <td>Non-public</td>\n",
       "      <td>6OL</td>\n",
       "      <td>Standard</td>\n",
       "      <td>20.0</td>\n",
       "      <td>3JIVH</td>\n",
       "      <td>Female</td>\n",
       "      <td>Does not qualify</td>\n",
       "      <td>66.0</td>\n",
       "      <td>79.0</td>\n",
       "    </tr>\n",
       "    <tr>\n",
       "      <th>2</th>\n",
       "      <td>ANKYI</td>\n",
       "      <td>Urban</td>\n",
       "      <td>Non-public</td>\n",
       "      <td>6OL</td>\n",
       "      <td>Standard</td>\n",
       "      <td>20.0</td>\n",
       "      <td>3XOWE</td>\n",
       "      <td>Male</td>\n",
       "      <td>Does not qualify</td>\n",
       "      <td>64.0</td>\n",
       "      <td>76.0</td>\n",
       "    </tr>\n",
       "    <tr>\n",
       "      <th>3</th>\n",
       "      <td>ANKYI</td>\n",
       "      <td>Urban</td>\n",
       "      <td>Non-public</td>\n",
       "      <td>6OL</td>\n",
       "      <td>Standard</td>\n",
       "      <td>20.0</td>\n",
       "      <td>556O0</td>\n",
       "      <td>Female</td>\n",
       "      <td>Does not qualify</td>\n",
       "      <td>61.0</td>\n",
       "      <td>77.0</td>\n",
       "    </tr>\n",
       "    <tr>\n",
       "      <th>4</th>\n",
       "      <td>ANKYI</td>\n",
       "      <td>Urban</td>\n",
       "      <td>Non-public</td>\n",
       "      <td>6OL</td>\n",
       "      <td>Standard</td>\n",
       "      <td>20.0</td>\n",
       "      <td>74LOE</td>\n",
       "      <td>Male</td>\n",
       "      <td>Does not qualify</td>\n",
       "      <td>64.0</td>\n",
       "      <td>76.0</td>\n",
       "    </tr>\n",
       "  </tbody>\n",
       "</table>\n",
       "</div>"
      ],
      "text/plain": [
       "  school school_setting school_type classroom teaching_method  n_student  \\\n",
       "0  ANKYI          Urban  Non-public       6OL        Standard       20.0   \n",
       "1  ANKYI          Urban  Non-public       6OL        Standard       20.0   \n",
       "2  ANKYI          Urban  Non-public       6OL        Standard       20.0   \n",
       "3  ANKYI          Urban  Non-public       6OL        Standard       20.0   \n",
       "4  ANKYI          Urban  Non-public       6OL        Standard       20.0   \n",
       "\n",
       "  student_id  gender             lunch  pretest  posttest  \n",
       "0      2FHT3  Female  Does not qualify     62.0      72.0  \n",
       "1      3JIVH  Female  Does not qualify     66.0      79.0  \n",
       "2      3XOWE    Male  Does not qualify     64.0      76.0  \n",
       "3      556O0  Female  Does not qualify     61.0      77.0  \n",
       "4      74LOE    Male  Does not qualify     64.0      76.0  "
      ]
     },
     "execution_count": 3,
     "metadata": {},
     "output_type": "execute_result"
    }
   ],
   "source": [
    "df = read_data('./data/test_scores.csv')\n",
    "df.head()"
   ]
  },
  {
   "cell_type": "code",
   "execution_count": 97,
   "metadata": {},
   "outputs": [],
   "source": [
    "def method_clean_numbers(data, column, method):\n",
    "    if method == 'mean':\n",
    "        data.loc[data[column].isnull(), column] = data.loc[data[column].notnull(), column].mean()\n",
    "    elif method == 'median':\n",
    "        data.loc[data[column].isnull(), column] = data.loc[data[column].notnull(), column].median()\n",
    "    elif method == 'mode':\n",
    "        data.loc[data[column].isnull(), column] = data.loc[data[column].notnull(), column].mode()[0]\n",
    "    elif method == 'regression':\n",
    "        correlation = data.corr(method=\"pearson\", numeric_only=True)\n",
    "        columns = correlation.columns\n",
    "\n",
    "        values = correlation.values\n",
    "\n",
    "        possibles_regressions = {}\n",
    "\n",
    "        for index_x in np.arange(values.shape[1]):\n",
    "            for index_y in np.arange(values.shape[0]):\n",
    "                y = columns[index_y]\n",
    "                \n",
    "                if values[index_y][index_x] >= 0.7 and values[index_y][index_x] != 1:\n",
    "                    if possibles_regressions.get(y) == None:\n",
    "                        possibles_regressions[y] = []\n",
    "                        \n",
    "                    possibles_regressions[y].append(columns[index_x])\n",
    "\n",
    "        for key in possibles_regressions.keys():\n",
    "            series = data.loc[data[key].isnull(), key]\n",
    "            if series.size > 0:\n",
    "                data_x_not_null = data[data[key].notnull()][possibles_regressions[key]]\n",
    "                data_y_not_null = data[data[key].notnull()][key]\n",
    "                \n",
    "                model = LinearRegression().fit(data_x_not_null, data_y_not_null)\n",
    "                \n",
    "                index_with_null = data[data[key].isnull()].index.values\n",
    "\n",
    "                data.loc[index_with_null, key] = model.predict(data[possibles_regressions[key]].iloc[index_with_null])\n",
    "\n",
    "                    \n",
    "    data.reset_index(drop=True, inplace=True)\n",
    "    \n",
    "    return data\n",
    "    \n",
    "def method_clean_strings(data, column, method):\n",
    "    if method == 'mean':\n",
    "        return\n",
    "        \n",
    "def data_clean(df, method='listwise'):\n",
    "    data = df.copy()\n",
    "    \n",
    "    columns = data.columns\n",
    "    columns_type = data.dtypes\n",
    "    \n",
    "    if method == 'listwise':\n",
    "        data = data.dropna()\n",
    "        data.reset_index(drop=True, inplace=True)\n",
    "        \n",
    "        for column in columns:\n",
    "            try:\n",
    "                if data[data[column] == ''] or data[data[column].isnull()]:\n",
    "                    data = data.drop(data[data[column] == ''])\n",
    "                    data.reset_index(drop=True, inplace=True)\n",
    "            except:\n",
    "                continue\n",
    "    else:\n",
    "        for column in columns:\n",
    "                if columns_type[column] == 'O':\n",
    "                    try:\n",
    "                        data[column] = data[column].astype('float64')\n",
    "                        \n",
    "                        data = method_clean_numbers(df, column, method)\n",
    "                    except:\n",
    "                        data.loc[data[column].isnull(), column] = np.NaN\n",
    "                        data.loc[data[column] == '', column] = np.NaN\n",
    "                        \n",
    "                else:\n",
    "                    data = method_clean_numbers(data, column, method)\n",
    "    return data"
   ]
  },
  {
   "cell_type": "code",
   "execution_count": 104,
   "metadata": {
    "notebookRunGroups": {
     "groupValue": "1"
    }
   },
   "outputs": [
    {
     "data": {
      "text/html": [
       "<div>\n",
       "<style scoped>\n",
       "    .dataframe tbody tr th:only-of-type {\n",
       "        vertical-align: middle;\n",
       "    }\n",
       "\n",
       "    .dataframe tbody tr th {\n",
       "        vertical-align: top;\n",
       "    }\n",
       "\n",
       "    .dataframe thead th {\n",
       "        text-align: right;\n",
       "    }\n",
       "</style>\n",
       "<table border=\"1\" class=\"dataframe\">\n",
       "  <thead>\n",
       "    <tr style=\"text-align: right;\">\n",
       "      <th></th>\n",
       "      <th>school</th>\n",
       "      <th>school_setting</th>\n",
       "      <th>school_type</th>\n",
       "      <th>classroom</th>\n",
       "      <th>teaching_method</th>\n",
       "      <th>n_student</th>\n",
       "      <th>student_id</th>\n",
       "      <th>gender</th>\n",
       "      <th>lunch</th>\n",
       "      <th>pretest</th>\n",
       "      <th>posttest</th>\n",
       "    </tr>\n",
       "  </thead>\n",
       "  <tbody>\n",
       "    <tr>\n",
       "      <th>0</th>\n",
       "      <td>ANKYI</td>\n",
       "      <td>Urban</td>\n",
       "      <td>Non-public</td>\n",
       "      <td>6OL</td>\n",
       "      <td>Standard</td>\n",
       "      <td>20.0</td>\n",
       "      <td>2FHT3</td>\n",
       "      <td>Female</td>\n",
       "      <td>Does not qualify</td>\n",
       "      <td>59.465572</td>\n",
       "      <td>72.0</td>\n",
       "    </tr>\n",
       "    <tr>\n",
       "      <th>1</th>\n",
       "      <td>ANKYI</td>\n",
       "      <td>Urban</td>\n",
       "      <td>Non-public</td>\n",
       "      <td>6OL</td>\n",
       "      <td>Standard</td>\n",
       "      <td>20.0</td>\n",
       "      <td>3JIVH</td>\n",
       "      <td>Female</td>\n",
       "      <td>Does not qualify</td>\n",
       "      <td>65.919057</td>\n",
       "      <td>79.0</td>\n",
       "    </tr>\n",
       "    <tr>\n",
       "      <th>2</th>\n",
       "      <td>ANKYI</td>\n",
       "      <td>Urban</td>\n",
       "      <td>Non-public</td>\n",
       "      <td>6OL</td>\n",
       "      <td>Standard</td>\n",
       "      <td>20.0</td>\n",
       "      <td>3XOWE</td>\n",
       "      <td>Male</td>\n",
       "      <td>Does not qualify</td>\n",
       "      <td>63.153278</td>\n",
       "      <td>76.0</td>\n",
       "    </tr>\n",
       "    <tr>\n",
       "      <th>3</th>\n",
       "      <td>ANKYI</td>\n",
       "      <td>Urban</td>\n",
       "      <td>Non-public</td>\n",
       "      <td>6OL</td>\n",
       "      <td>Standard</td>\n",
       "      <td>20.0</td>\n",
       "      <td>556O0</td>\n",
       "      <td>Female</td>\n",
       "      <td>Does not qualify</td>\n",
       "      <td>64.075204</td>\n",
       "      <td>77.0</td>\n",
       "    </tr>\n",
       "    <tr>\n",
       "      <th>4</th>\n",
       "      <td>ANKYI</td>\n",
       "      <td>Urban</td>\n",
       "      <td>Non-public</td>\n",
       "      <td>6OL</td>\n",
       "      <td>Standard</td>\n",
       "      <td>20.0</td>\n",
       "      <td>74LOE</td>\n",
       "      <td>Male</td>\n",
       "      <td>Does not qualify</td>\n",
       "      <td>63.153278</td>\n",
       "      <td>76.0</td>\n",
       "    </tr>\n",
       "    <tr>\n",
       "      <th>...</th>\n",
       "      <td>...</td>\n",
       "      <td>...</td>\n",
       "      <td>...</td>\n",
       "      <td>...</td>\n",
       "      <td>...</td>\n",
       "      <td>...</td>\n",
       "      <td>...</td>\n",
       "      <td>...</td>\n",
       "      <td>...</td>\n",
       "      <td>...</td>\n",
       "      <td>...</td>\n",
       "    </tr>\n",
       "    <tr>\n",
       "      <th>2128</th>\n",
       "      <td>ZOWMK</td>\n",
       "      <td>Urban</td>\n",
       "      <td>Public</td>\n",
       "      <td>ZBH</td>\n",
       "      <td>Standard</td>\n",
       "      <td>30.0</td>\n",
       "      <td>T8LSK</td>\n",
       "      <td>Female</td>\n",
       "      <td>Does not qualify</td>\n",
       "      <td>39.000000</td>\n",
       "      <td>55.0</td>\n",
       "    </tr>\n",
       "    <tr>\n",
       "      <th>2129</th>\n",
       "      <td>ZOWMK</td>\n",
       "      <td>Urban</td>\n",
       "      <td>Public</td>\n",
       "      <td>ZBH</td>\n",
       "      <td>Standard</td>\n",
       "      <td>30.0</td>\n",
       "      <td>VNP26</td>\n",
       "      <td>Female</td>\n",
       "      <td>Qualifies for reduced/free lunch</td>\n",
       "      <td>38.000000</td>\n",
       "      <td>46.0</td>\n",
       "    </tr>\n",
       "    <tr>\n",
       "      <th>2130</th>\n",
       "      <td>ZOWMK</td>\n",
       "      <td>Urban</td>\n",
       "      <td>Public</td>\n",
       "      <td>ZBH</td>\n",
       "      <td>Standard</td>\n",
       "      <td>30.0</td>\n",
       "      <td>YDR1Z</td>\n",
       "      <td>Female</td>\n",
       "      <td>Qualifies for reduced/free lunch</td>\n",
       "      <td>45.000000</td>\n",
       "      <td>51.0</td>\n",
       "    </tr>\n",
       "    <tr>\n",
       "      <th>2131</th>\n",
       "      <td>ZOWMK</td>\n",
       "      <td>Urban</td>\n",
       "      <td>Public</td>\n",
       "      <td>ZBH</td>\n",
       "      <td>Standard</td>\n",
       "      <td>30.0</td>\n",
       "      <td>YUEIH</td>\n",
       "      <td>Male</td>\n",
       "      <td>Qualifies for reduced/free lunch</td>\n",
       "      <td>46.000000</td>\n",
       "      <td>53.0</td>\n",
       "    </tr>\n",
       "    <tr>\n",
       "      <th>2132</th>\n",
       "      <td>ZOWMK</td>\n",
       "      <td>Urban</td>\n",
       "      <td>Public</td>\n",
       "      <td>ZBH</td>\n",
       "      <td>Standard</td>\n",
       "      <td>30.0</td>\n",
       "      <td>ZVCQ8</td>\n",
       "      <td>Male</td>\n",
       "      <td>Qualifies for reduced/free lunch</td>\n",
       "      <td>41.000000</td>\n",
       "      <td>48.0</td>\n",
       "    </tr>\n",
       "  </tbody>\n",
       "</table>\n",
       "<p>2133 rows × 11 columns</p>\n",
       "</div>"
      ],
      "text/plain": [
       "     school school_setting school_type classroom teaching_method  n_student  \\\n",
       "0     ANKYI          Urban  Non-public       6OL        Standard       20.0   \n",
       "1     ANKYI          Urban  Non-public       6OL        Standard       20.0   \n",
       "2     ANKYI          Urban  Non-public       6OL        Standard       20.0   \n",
       "3     ANKYI          Urban  Non-public       6OL        Standard       20.0   \n",
       "4     ANKYI          Urban  Non-public       6OL        Standard       20.0   \n",
       "...     ...            ...         ...       ...             ...        ...   \n",
       "2128  ZOWMK          Urban      Public       ZBH        Standard       30.0   \n",
       "2129  ZOWMK          Urban      Public       ZBH        Standard       30.0   \n",
       "2130  ZOWMK          Urban      Public       ZBH        Standard       30.0   \n",
       "2131  ZOWMK          Urban      Public       ZBH        Standard       30.0   \n",
       "2132  ZOWMK          Urban      Public       ZBH        Standard       30.0   \n",
       "\n",
       "     student_id  gender                             lunch    pretest  posttest  \n",
       "0         2FHT3  Female                  Does not qualify  59.465572      72.0  \n",
       "1         3JIVH  Female                  Does not qualify  65.919057      79.0  \n",
       "2         3XOWE    Male                  Does not qualify  63.153278      76.0  \n",
       "3         556O0  Female                  Does not qualify  64.075204      77.0  \n",
       "4         74LOE    Male                  Does not qualify  63.153278      76.0  \n",
       "...         ...     ...                               ...        ...       ...  \n",
       "2128      T8LSK  Female                  Does not qualify  39.000000      55.0  \n",
       "2129      VNP26  Female  Qualifies for reduced/free lunch  38.000000      46.0  \n",
       "2130      YDR1Z  Female  Qualifies for reduced/free lunch  45.000000      51.0  \n",
       "2131      YUEIH    Male  Qualifies for reduced/free lunch  46.000000      53.0  \n",
       "2132      ZVCQ8    Male  Qualifies for reduced/free lunch  41.000000      48.0  \n",
       "\n",
       "[2133 rows x 11 columns]"
      ]
     },
     "execution_count": 104,
     "metadata": {},
     "output_type": "execute_result"
    }
   ],
   "source": [
    "df_2 = data_clean(df, method='regression')\n",
    "df_2"
   ]
  },
  {
   "cell_type": "code",
   "execution_count": 105,
   "metadata": {},
   "outputs": [
    {
     "data": {
      "text/html": [
       "<div>\n",
       "<style scoped>\n",
       "    .dataframe tbody tr th:only-of-type {\n",
       "        vertical-align: middle;\n",
       "    }\n",
       "\n",
       "    .dataframe tbody tr th {\n",
       "        vertical-align: top;\n",
       "    }\n",
       "\n",
       "    .dataframe thead th {\n",
       "        text-align: right;\n",
       "    }\n",
       "</style>\n",
       "<table border=\"1\" class=\"dataframe\">\n",
       "  <thead>\n",
       "    <tr style=\"text-align: right;\">\n",
       "      <th></th>\n",
       "      <th>n_student</th>\n",
       "      <th>pretest</th>\n",
       "      <th>posttest</th>\n",
       "    </tr>\n",
       "  </thead>\n",
       "  <tbody>\n",
       "    <tr>\n",
       "      <th>n_student</th>\n",
       "      <td>1.000000</td>\n",
       "      <td>-0.499082</td>\n",
       "      <td>-0.504886</td>\n",
       "    </tr>\n",
       "    <tr>\n",
       "      <th>pretest</th>\n",
       "      <td>-0.499082</td>\n",
       "      <td>1.000000</td>\n",
       "      <td>0.950936</td>\n",
       "    </tr>\n",
       "    <tr>\n",
       "      <th>posttest</th>\n",
       "      <td>-0.504886</td>\n",
       "      <td>0.950936</td>\n",
       "      <td>1.000000</td>\n",
       "    </tr>\n",
       "  </tbody>\n",
       "</table>\n",
       "</div>"
      ],
      "text/plain": [
       "           n_student   pretest  posttest\n",
       "n_student   1.000000 -0.499082 -0.504886\n",
       "pretest    -0.499082  1.000000  0.950936\n",
       "posttest   -0.504886  0.950936  1.000000"
      ]
     },
     "execution_count": 105,
     "metadata": {},
     "output_type": "execute_result"
    }
   ],
   "source": [
    "test = df_2.corr(method=\"pearson\", numeric_only=True)\n",
    "test"
   ]
  },
  {
   "cell_type": "code",
   "execution_count": 35,
   "metadata": {},
   "outputs": [
    {
     "data": {
      "text/plain": [
       "1"
      ]
     },
     "execution_count": 35,
     "metadata": {},
     "output_type": "execute_result"
    }
   ],
   "source": [
    "test.columns.get_loc('pretest')"
   ]
  },
  {
   "cell_type": "code",
   "execution_count": 95,
   "metadata": {},
   "outputs": [
    {
     "data": {
      "text/plain": [
       "pretest    54.913737\n",
       "dtype: float64"
      ]
     },
     "execution_count": 95,
     "metadata": {},
     "output_type": "execute_result"
    }
   ],
   "source": [
    "df_2[[\"pretest\"]].mean()"
   ]
  },
  {
   "cell_type": "code",
   "execution_count": 77,
   "metadata": {},
   "outputs": [],
   "source": [
    "df.loc[[0, 1, 2, 3, 4, 5, 6, 7, 8, 9, 10], 'pretest'] = np.NaN"
   ]
  },
  {
   "cell_type": "code",
   "execution_count": 78,
   "metadata": {},
   "outputs": [
    {
     "data": {
      "text/plain": [
       "array([ 0,  1,  2,  3,  4,  5,  6,  7,  8,  9, 10], dtype=int64)"
      ]
     },
     "execution_count": 78,
     "metadata": {},
     "output_type": "execute_result"
    }
   ],
   "source": [
    "df[df[\"pretest\"].isnull()].index.values"
   ]
  },
  {
   "cell_type": "code",
   "execution_count": 69,
   "metadata": {},
   "outputs": [
    {
     "data": {
      "text/html": [
       "<div>\n",
       "<style scoped>\n",
       "    .dataframe tbody tr th:only-of-type {\n",
       "        vertical-align: middle;\n",
       "    }\n",
       "\n",
       "    .dataframe tbody tr th {\n",
       "        vertical-align: top;\n",
       "    }\n",
       "\n",
       "    .dataframe thead th {\n",
       "        text-align: right;\n",
       "    }\n",
       "</style>\n",
       "<table border=\"1\" class=\"dataframe\">\n",
       "  <thead>\n",
       "    <tr style=\"text-align: right;\">\n",
       "      <th></th>\n",
       "      <th>posttest</th>\n",
       "    </tr>\n",
       "  </thead>\n",
       "  <tbody>\n",
       "    <tr>\n",
       "      <th>0</th>\n",
       "      <td>72.0</td>\n",
       "    </tr>\n",
       "  </tbody>\n",
       "</table>\n",
       "</div>"
      ],
      "text/plain": [
       "   posttest\n",
       "0      72.0"
      ]
     },
     "execution_count": 69,
     "metadata": {},
     "output_type": "execute_result"
    }
   ],
   "source": [
    "df[possibles_regressions[key]].iloc[index_with_null]"
   ]
  },
  {
   "cell_type": "code",
   "execution_count": 22,
   "metadata": {},
   "outputs": [
    {
     "data": {
      "text/plain": [
       "Series([], Name: pretest, dtype: float64)"
      ]
     },
     "execution_count": 22,
     "metadata": {},
     "output_type": "execute_result"
    }
   ],
   "source": [
    "df.loc[df[x_to_regression[0]].isnull(), x_to_regression[0]]"
   ]
  },
  {
   "cell_type": "code",
   "execution_count": 74,
   "metadata": {},
   "outputs": [
    {
     "data": {
      "text/plain": [
       "(62.0, 59.47076020241826)"
      ]
     },
     "execution_count": 74,
     "metadata": {},
     "output_type": "execute_result"
    }
   ],
   "source": [
    "df_2[\"pretest\"][0], df[\"pretest\"][0]"
   ]
  },
  {
   "cell_type": "code",
   "execution_count": 38,
   "metadata": {
    "notebookRunGroups": {
     "groupValue": "1"
    }
   },
   "outputs": [],
   "source": [
    "\n",
    "model = LinearRegression().fit(df_2[['posttest']], df_2[['n_student']].values)"
   ]
  },
  {
   "cell_type": "code",
   "execution_count": 48,
   "metadata": {},
   "outputs": [
    {
     "name": "stderr",
     "output_type": "stream",
     "text": [
      "c:\\Users\\augus\\AppData\\Local\\Programs\\Python\\Python311\\Lib\\site-packages\\sklearn\\base.py:409: UserWarning: X does not have valid feature names, but LinearRegression was fitted with feature names\n",
      "  warnings.warn(\n"
     ]
    },
    {
     "data": {
      "text/plain": [
       "22.04887251002618"
      ]
     },
     "execution_count": 48,
     "metadata": {},
     "output_type": "execute_result"
    }
   ],
   "source": [
    "model.predict([df_2['posttest'][0:1]])[0][0]"
   ]
  },
  {
   "cell_type": "code",
   "execution_count": null,
   "metadata": {},
   "outputs": [],
   "source": []
  }
 ],
 "metadata": {
  "kernelspec": {
   "display_name": "Python 3",
   "language": "python",
   "name": "python3"
  },
  "language_info": {
   "codemirror_mode": {
    "name": "ipython",
    "version": 3
   },
   "file_extension": ".py",
   "mimetype": "text/x-python",
   "name": "python",
   "nbconvert_exporter": "python",
   "pygments_lexer": "ipython3",
   "version": "3.11.1"
  },
  "vscode": {
   "interpreter": {
    "hash": "554195728242e646eae8050ec791cea05fe3cb4fbf2989d9fb779052e8516732"
   }
  }
 },
 "nbformat": 4,
 "nbformat_minor": 4
}
